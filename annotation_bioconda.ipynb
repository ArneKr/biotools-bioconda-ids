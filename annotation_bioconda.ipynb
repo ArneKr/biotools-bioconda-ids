{
 "cells": [
  {
   "cell_type": "code",
   "execution_count": 210,
   "metadata": {},
   "outputs": [],
   "source": [
    "# This python notebook annotate the bioconda recipes using the ids from bio.tools in the external session \n",
    "# in bioconda recipes. Two different input should be provided, the bioconda_recipes_path in your local machine and\n",
    "# the file with the mapping.   \n",
    "\n",
    "\n",
    "import glob2\n",
    "import os\n",
    "\n",
    "import requests\n",
    "import sys\n",
    "import getopt\n",
    "import re\n",
    "from pandas import DataFrame, read_csv\n",
    "\n",
    "from ruamel.yaml import YAML\n",
    "\n",
    "from yaml.constructor import ConstructorError\n",
    "from yaml.scanner import ScannerError"
   ]
  },
  {
   "cell_type": "code",
   "execution_count": 211,
   "metadata": {
    "collapsed": true
   },
   "outputs": [],
   "source": [
    "def get_bioconda_yalm(bioconda_path):\n",
    "    yalm_files = dict()\n",
    "    matches =  glob2.glob(bioconda_path + '/**/*.yaml', with_matches=True)\n",
    "    yaml = YAML(typ='jinja2')\n",
    "    yaml.allow_duplicate_keys = True\n",
    "    yaml.explicit_start  = True\n",
    "    if(len(matches) > 0 ):\n",
    "        for file_name in matches:\n",
    "            if(os.path.isfile(file_name[0])):\n",
    "                #print(file_name[0])\n",
    "                path_list = file_name[0].replace(bioconda_path, \"\").split(os.sep)\n",
    "                software_name = path_list[1]\n",
    "                try:\n",
    "                    with open(file_name[0]) as fp:\n",
    "                         yalm_file = yaml.load(fp)\n",
    "                    yalm_files[software_name] = (file_name[0], yalm_file)\n",
    "                except (ScannerError, ConstructorError, TypeError, AttributeError) as error:\n",
    "                    print(\"ERROR | \" + software_name + \"\\t\" + file_name[0])\n",
    "    return yalm_files          "
   ]
  },
  {
   "cell_type": "code",
   "execution_count": 212,
   "metadata": {},
   "outputs": [],
   "source": [
    "def get_annotation_mapping(mapping_file):\n",
    "    mapping = read_csv(mapping_file)\n",
    "    return mapping    "
   ]
  },
  {
   "cell_type": "code",
   "execution_count": 215,
   "metadata": {},
   "outputs": [],
   "source": [
    "def annotate_yaml(yaml_file, biotool):\n",
    "    path_file = yaml_file[0]\n",
    "    yaml_file_content = yaml_file[1]\n",
    "    if yaml_file_content.get('extra') is None:\n",
    "        yaml_file_content['extra'] = {}\n",
    "    else:\n",
    "        print(\"EXTRA has been found: \" + biotool)\n",
    "    yaml_file_content['extra']['biotools']=[biotool]\n",
    "    with open(path_file, 'w') as fp:\n",
    "        yaml.dump(yaml_file_content, fp)\n",
    "    \n",
    "\n",
    "def annotate_yamls(yaml_dictonary, mappings):\n",
    "    for (idx, row) in mappings.iterrows():\n",
    "        if yaml_dictonary.get(row.bioconda) is not None:\n",
    "            annotate_yaml(yaml_dictonary[row.bioconda], row.biotools)"
   ]
  },
  {
   "cell_type": "code",
   "execution_count": null,
   "metadata": {
    "scrolled": false
   },
   "outputs": [],
   "source": [
    "bioconda_recipes_path = \"/Users/yperez/IdeaProjects/github-repo/biodocker/bioconda-recipes/recipes\"\n",
    "mapping_file          = \"/Users/yperez/IdeaProjects/github-repo/biodocker/bioconda-biotools/mapping_matchonly.csv\"\n",
    "mapping = get_annotation_mapping(mapping_file)\n",
    "yaml_files = get_bioconda_yalm(bioconda_recipes_path)\n",
    "print(yaml_files)\n",
    "annotate_yamls(yaml_files, mapping)"
   ]
  }
 ],
 "metadata": {
  "kernelspec": {
   "display_name": "Python 3",
   "language": "python",
   "name": "python3"
  },
  "language_info": {
   "codemirror_mode": {
    "name": "ipython",
    "version": 3
   },
   "file_extension": ".py",
   "mimetype": "text/x-python",
   "name": "python",
   "nbconvert_exporter": "python",
   "pygments_lexer": "ipython3",
   "version": "3.6.2"
  }
 },
 "nbformat": 4,
 "nbformat_minor": 2
}
