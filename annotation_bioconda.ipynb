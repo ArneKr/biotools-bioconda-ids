{
 "cells": [
  {
   "cell_type": "code",
   "execution_count": null,
   "metadata": {
    "collapsed": true
   },
   "outputs": [],
   "source": [
    "# This python notebook annotate the bioconda recipes using the ids from bio.tools in the internal local path to the \n",
    "# in bioconda recipes. Two different input should be provided: \n",
    "# @param bioconda_recipes_path the local path to the bioconda recipes, this can be download using the git clone command\n",
    "# @param mapping_file is the local path to the mapping file generated with the notebook biotools-biocontainers-venn.ipynb\n",
    "\n",
    "\n",
    "import glob2\n",
    "import os\n",
    "import sys\n",
    "\n",
    "from pandas import DataFrame, read_csv\n",
    "\n",
    "from ruamel.yaml import YAML\n",
    "\n",
    "from yaml.constructor import ConstructorError\n",
    "from yaml.scanner import ScannerError"
   ]
  },
  {
   "cell_type": "code",
   "execution_count": null,
   "metadata": {
    "collapsed": true
   },
   "outputs": [],
   "source": [
    "def init_yaml_parser():\n",
    "    yaml = YAML(typ='jinja2')\n",
    "    yaml.allow_duplicate_keys = True\n",
    "    yaml.explicit_start = True\n",
    "    yaml.\n",
    "    return yaml"
   ]
  },
  {
   "cell_type": "code",
   "execution_count": null,
   "metadata": {
    "collapsed": true
   },
   "outputs": [],
   "source": [
    "def get_bioconda_yalm(bioconda_path, yaml_parser):\n",
    "    yaml_files = dict()\n",
    "    matches = glob2.glob(bioconda_path + '/**/*.yaml', with_matches=True)\n",
    "    if len(matches) > 0:\n",
    "        for file_name in matches:\n",
    "            if (os.path.isfile(file_name[0])):\n",
    "                # print(file_name[0])\n",
    "                path_list = file_name[0].replace(bioconda_path, \"\").split(os.sep)\n",
    "                software_name = path_list[1]\n",
    "                try:\n",
    "                    with open(file_name[0]) as fp:\n",
    "                        yalm_file = yaml_parser.load(fp)\n",
    "                    yaml_files[software_name] = (file_name[0], yalm_file)\n",
    "                    #print(yaml_files[software_name])\n",
    "                except (ScannerError, ConstructorError, TypeError, AttributeError) as error:\n",
    "                    print(\"ERROR | \" + software_name + \"\\t\" + file_name[0])\n",
    "    return yaml_files         "
   ]
  },
  {
   "cell_type": "code",
   "execution_count": null,
   "metadata": {
    "collapsed": true
   },
   "outputs": [],
   "source": [
    "def get_annotation_mapping(mapping_file):\n",
    "    mapping = read_csv(mapping_file)\n",
    "    return mapping    "
   ]
  },
  {
   "cell_type": "code",
   "execution_count": null,
   "metadata": {
    "collapsed": true
   },
   "outputs": [],
   "source": [
    "def annotate_yaml(yaml_file, biotool, yaml_parser):\n",
    "    path_file = yaml_file[0]\n",
    "    print(yaml_file)\n",
    "    yaml_file_content = yaml_file[1]\n",
    "    if yaml_file_content.get('extra') is None:\n",
    "        yaml_file_content['extra'] = {}\n",
    "    else:\n",
    "        print(\"EXTRA has been found: \" + biotool)\n",
    "    yaml_file_content['extra']['biotools'] = [biotool]\n",
    "\n",
    "    with open(path_file, 'w') as fp:\n",
    "        yaml_parser.dump(yaml_file_content, fp)\n",
    "\n",
    "    \n",
    "\n",
    "def annotate_yamls(yaml_dictonary, mappings, yaml):\n",
    "    for (idx, row) in mappings.iterrows():\n",
    "        if yaml_dictonary.get(row.bioconda) is not None:\n",
    "            print(yaml_dictonary.get(row.bioconda))\n",
    "            annotate_yaml(yaml_dictonary[row.bioconda], row.biotools, yaml)"
   ]
  },
  {
   "cell_type": "code",
   "execution_count": null,
   "metadata": {
    "scrolled": false
   },
   "outputs": [],
   "source": [
    "bioconda_recipes_path = \"/Users/yperez/IdeaProjects/github-repo/biodocker/bioconda-recipes/recipes\"\n",
    "mapping_file = \"/Users/yperez/IdeaProjects/github-repo/biodocker/bioconda-biotools/mapping_matchonly.csv\"\n",
    "yaml_parser = init_yaml_parser()\n",
    "mapping = get_annotation_mapping(mapping_file)\n",
    "yaml_files = get_bioconda_yalm(bioconda_recipes_path, yaml_parser)\n",
    "annotate_yamls(yaml_files, mapping, yaml_parser)"
   ]
  },
  {
   "cell_type": "code",
   "execution_count": null,
   "metadata": {
    "collapsed": true
   },
   "outputs": [],
   "source": []
  }
 ],
 "metadata": {
  "kernelspec": {
   "display_name": "Python 3",
   "language": "python",
   "name": "python3"
  },
  "language_info": {
   "codemirror_mode": {
    "name": "ipython",
    "version": 3
   },
   "file_extension": ".py",
   "mimetype": "text/x-python",
   "name": "python",
   "nbconvert_exporter": "python",
   "pygments_lexer": "ipython3",
   "version": "3.6.2"
  }
 },
 "nbformat": 4,
 "nbformat_minor": 2
}
